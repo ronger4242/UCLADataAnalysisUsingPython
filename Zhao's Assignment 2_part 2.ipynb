{
 "cells": [
  {
   "cell_type": "code",
   "execution_count": 91,
   "metadata": {},
   "outputs": [
    {
     "data": {
      "text/html": [
       "<div>\n",
       "<style scoped>\n",
       "    .dataframe tbody tr th:only-of-type {\n",
       "        vertical-align: middle;\n",
       "    }\n",
       "\n",
       "    .dataframe tbody tr th {\n",
       "        vertical-align: top;\n",
       "    }\n",
       "\n",
       "    .dataframe thead th {\n",
       "        text-align: right;\n",
       "    }\n",
       "</style>\n",
       "<table border=\"1\" class=\"dataframe\">\n",
       "  <thead>\n",
       "    <tr style=\"text-align: right;\">\n",
       "      <th></th>\n",
       "      <th>A</th>\n",
       "      <th>B</th>\n",
       "      <th>C</th>\n",
       "      <th>D</th>\n",
       "    </tr>\n",
       "  </thead>\n",
       "  <tbody>\n",
       "    <tr>\n",
       "      <th>0</th>\n",
       "      <td>0.869879</td>\n",
       "      <td>0.844202</td>\n",
       "      <td>0.114899</td>\n",
       "      <td>0.340999</td>\n",
       "    </tr>\n",
       "    <tr>\n",
       "      <th>1</th>\n",
       "      <td>0.259041</td>\n",
       "      <td>0.069887</td>\n",
       "      <td>0.819856</td>\n",
       "      <td>0.784976</td>\n",
       "    </tr>\n",
       "    <tr>\n",
       "      <th>2</th>\n",
       "      <td>0.465021</td>\n",
       "      <td>0.237909</td>\n",
       "      <td>0.657006</td>\n",
       "      <td>0.323396</td>\n",
       "    </tr>\n",
       "    <tr>\n",
       "      <th>3</th>\n",
       "      <td>0.946219</td>\n",
       "      <td>0.695150</td>\n",
       "      <td>0.175537</td>\n",
       "      <td>0.839327</td>\n",
       "    </tr>\n",
       "    <tr>\n",
       "      <th>4</th>\n",
       "      <td>0.149217</td>\n",
       "      <td>0.862874</td>\n",
       "      <td>0.409901</td>\n",
       "      <td>0.904221</td>\n",
       "    </tr>\n",
       "    <tr>\n",
       "      <th>5</th>\n",
       "      <td>0.808056</td>\n",
       "      <td>0.897554</td>\n",
       "      <td>0.638395</td>\n",
       "      <td>0.238894</td>\n",
       "    </tr>\n",
       "    <tr>\n",
       "      <th>6</th>\n",
       "      <td>0.869436</td>\n",
       "      <td>0.916379</td>\n",
       "      <td>0.140433</td>\n",
       "      <td>0.684714</td>\n",
       "    </tr>\n",
       "    <tr>\n",
       "      <th>7</th>\n",
       "      <td>0.548029</td>\n",
       "      <td>0.058735</td>\n",
       "      <td>0.750414</td>\n",
       "      <td>0.705353</td>\n",
       "    </tr>\n",
       "    <tr>\n",
       "      <th>8</th>\n",
       "      <td>0.597243</td>\n",
       "      <td>0.215478</td>\n",
       "      <td>0.849210</td>\n",
       "      <td>0.807377</td>\n",
       "    </tr>\n",
       "    <tr>\n",
       "      <th>9</th>\n",
       "      <td>0.143135</td>\n",
       "      <td>0.601593</td>\n",
       "      <td>0.896197</td>\n",
       "      <td>0.788479</td>\n",
       "    </tr>\n",
       "  </tbody>\n",
       "</table>\n",
       "</div>"
      ],
      "text/plain": [
       "          A         B         C         D\n",
       "0  0.869879  0.844202  0.114899  0.340999\n",
       "1  0.259041  0.069887  0.819856  0.784976\n",
       "2  0.465021  0.237909  0.657006  0.323396\n",
       "3  0.946219  0.695150  0.175537  0.839327\n",
       "4  0.149217  0.862874  0.409901  0.904221\n",
       "5  0.808056  0.897554  0.638395  0.238894\n",
       "6  0.869436  0.916379  0.140433  0.684714\n",
       "7  0.548029  0.058735  0.750414  0.705353\n",
       "8  0.597243  0.215478  0.849210  0.807377\n",
       "9  0.143135  0.601593  0.896197  0.788479"
      ]
     },
     "execution_count": 91,
     "metadata": {},
     "output_type": "execute_result"
    }
   ],
   "source": [
    "import json\n",
    "import glob\n",
    "import pandas as pd\n",
    "\n",
    "df1 = pd.DataFrame()\n",
    "files = glob.glob('f*.json')\n",
    "for f in files:\n",
    "    with open(f, 'r') as fp:\n",
    "        d = json.load(fp)\n",
    "        df1 = df1.append(d, ignore_index=True)\n",
    "df1\n"
   ]
  },
  {
   "cell_type": "code",
   "execution_count": 87,
   "metadata": {},
   "outputs": [
    {
     "name": "stdout",
     "output_type": "stream",
     "text": [
      "           A          B          C          D\n",
      "0   0.869879   0.844202   0.114899   0.340999\n",
      "1  25.904097   6.988709  81.985610  78.497621\n",
      "2   0.465021   0.237909   0.657006   0.323396\n",
      "3  94.621925  69.515025  17.553690  83.932655\n",
      "4   0.149217   0.862874   0.409901   0.904221\n",
      "5  80.805606  89.755425  63.839475  23.889381\n",
      "6   0.869436   0.916379   0.140433   0.684714\n",
      "7  54.802938   5.873527  75.041354  70.535254\n",
      "8   0.597243   0.215478   0.849210   0.807377\n",
      "9  14.313516  60.159297  89.619669  78.847876\n"
     ]
    }
   ],
   "source": [
    "df2 = pd.read_csv('df1.csv')\n",
    "nrow = df2.shape[0]\n",
    "for i in range(0,nrow):\n",
    "    if i % 2 != 0:\n",
    "        df2.iloc[i].update(df2.iloc[i]*100)\n",
    "df2\n",
    "df2.to_csv('df2.csv', index=False)"
   ]
  },
  {
   "cell_type": "code",
   "execution_count": 89,
   "metadata": {},
   "outputs": [
    {
     "name": "stdout",
     "output_type": "stream",
     "text": [
      "          X1        X2        X3        X4        X5\n",
      "0   0.414317  0.776548  0.506774  0.643326  0.468103\n",
      "1   0.400211  0.806593  0.904739  0.512174  0.842907\n",
      "2   0.268349  0.763394  0.346673  0.915704  0.789314\n",
      "3   0.805532  0.784065  0.322881  0.917927  0.979715\n",
      "4   0.570898  0.476033  0.961544  0.198116  0.049512\n",
      "5   0.454052  0.297131  0.054279  0.069190  0.475680\n",
      "6   0.010104  0.635124  0.465735  0.631675  0.229121\n",
      "7   0.678892  0.096230  0.227693  0.953992  0.316629\n",
      "8   0.934717  0.985339  0.578714  0.929416  0.710535\n",
      "9   0.493016  0.260151  0.751744  0.526969  0.841319\n",
      "10  0.187431  0.247436  0.784163  0.873230  0.285470\n",
      "11  0.529107  0.978070  0.354804  0.557944  0.975310\n",
      "12  0.887774  0.968968  0.984239  0.970451  0.792571\n",
      "13  0.006619  0.155323  0.254204  0.183008  0.851881\n",
      "14  0.478550  0.672508  0.592660  0.921384  0.892561\n"
     ]
    }
   ],
   "source": [
    "df3 = pd.DataFrame()\n",
    "files = glob.glob('x*.json')\n",
    "for f in files:\n",
    "    with open(f, 'r') as fp:\n",
    "        d = json.load(fp)\n",
    "        df3 = df3.append(d, ignore_index=True)\n",
    "df3\n",
    "df3.to_csv('df3.csv', index=False)"
   ]
  },
  {
   "cell_type": "code",
   "execution_count": null,
   "metadata": {},
   "outputs": [],
   "source": []
  }
 ],
 "metadata": {
  "kernelspec": {
   "display_name": "Python 3",
   "language": "python",
   "name": "python3"
  },
  "language_info": {
   "codemirror_mode": {
    "name": "ipython",
    "version": 3
   },
   "file_extension": ".py",
   "mimetype": "text/x-python",
   "name": "python",
   "nbconvert_exporter": "python",
   "pygments_lexer": "ipython3",
   "version": "3.7.3"
  }
 },
 "nbformat": 4,
 "nbformat_minor": 2
}
